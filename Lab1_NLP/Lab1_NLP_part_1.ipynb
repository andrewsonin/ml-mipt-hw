{
 "cells": [
  {
   "cell_type": "markdown",
   "metadata": {
    "colab_type": "text",
    "id": "eulvfJWl7ueY"
   },
   "source": [
    "# Lab 1\n",
    "\n",
    "\n",
    "## Part 1: Bilingual dictionary induction and unsupervised embedding-based MT (30%)\n",
    "*Note: this homework is based on materials from yandexdataschool [NLP course](https://github.com/yandexdataschool/nlp_course/). Feel free to check this awesome course if you wish to dig deeper.*\n",
    "\n",
    "*Refined by [Nikolay Karpachev](https://www.linkedin.com/in/nikolay-karpachev-b0146a104/)*"
   ]
  },
  {
   "cell_type": "markdown",
   "metadata": {
    "colab_type": "text",
    "id": "fV4rIjxa7uei"
   },
   "source": [
    "**In this homework** **<font color='red'>YOU</font>** will make machine translation system without using parallel corpora, alignment, attention, 100500 depth super-cool recurrent neural network and all that kind superstuff.\n",
    "\n",
    "But even without parallel corpora this system can be good enough (hopefully), in particular for similar languages, e.g. Ukrainian and Russian. "
   ]
  },
  {
   "cell_type": "markdown",
   "metadata": {
    "colab_type": "text",
    "id": "idSYq2GU7uew"
   },
   "source": [
    "### Frament of the Swadesh list for some slavic languages\n",
    "\n",
    "The Swadesh list is a lexicostatistical stuff. It's named after American linguist Morris Swadesh and contains basic lexis. This list are used to define subgroupings of languages, its relatedness.\n",
    "\n",
    "So we can see some kind of word invariance for different Slavic languages.\n",
    "\n",
    "\n",
    "| Russian         | Belorussian              | Ukrainian               | Polish             | Czech                         | Bulgarian            |\n",
    "|-----------------|--------------------------|-------------------------|--------------------|-------------------------------|-----------------------|\n",
    "| женщина         | жанчына, кабета, баба    | жінка                   | kobieta            | žena                          | жена                  |\n",
    "| мужчина         | мужчына                  | чоловік, мужчина        | mężczyzna          | muž                           | мъж                   |\n",
    "| человек         | чалавек                  | людина, чоловік         | człowiek           | člověk                        | човек                 |\n",
    "| ребёнок, дитя   | дзіця, дзіцёнак, немаўля | дитина, дитя            | dziecko            | dítě                          | дете                  |\n",
    "| жена            | жонка                    | дружина, жінка          | żona               | žena, manželka, choť          | съпруга, жена         |\n",
    "| муж             | муж, гаспадар            | чоловiк, муж            | mąż                | muž, manžel, choť             | съпруг, мъж           |\n",
    "| мать, мама      | маці, матка              | мати, матір, неня, мама | matka              | matka, máma, 'стар.' mateř    | майка                 |\n",
    "| отец, тятя      | бацька, тата             | батько, тато, татусь    | ojciec             | otec                          | баща, татко           |\n",
    "| много           | шмат, багата             | багато                  | wiele              | mnoho, hodně                  | много                 |\n",
    "| несколько       | некалькі, колькі         | декілька, кілька        | kilka              | několik, pár, trocha          | няколко               |\n",
    "| другой, иной    | іншы                     | інший                   | inny               | druhý, jiný                   | друг                  |\n",
    "| зверь, животное | жывёла, звер, істота     | тварина, звір           | zwierzę            | zvíře                         | животно               |\n",
    "| рыба            | рыба                     | риба                    | ryba               | ryba                          | риба                  |\n",
    "| птица           | птушка                   | птах, птиця             | ptak               | pták                          | птица                 |\n",
    "| собака, пёс     | сабака                   | собака, пес             | pies               | pes                           | куче, пес             |\n",
    "| вошь            | вош                      | воша                    | wesz               | veš                           | въшка                 |\n",
    "| змея, гад       | змяя                     | змія, гад               | wąż                | had                           | змия                  |\n",
    "| червь, червяк   | чарвяк                   | хробак, черв'як         | robak              | červ                          | червей                |\n",
    "| дерево          | дрэва                    | дерево                  | drzewo             | strom, dřevo                  | дърво                 |\n",
    "| лес             | лес                      | ліс                     | las                | les                           | гора, лес             |\n",
    "| палка           | кій, палка               | палиця                  | patyk, pręt, pałka | hůl, klacek, prut, kůl, pálka | палка, пръчка, бастун |"
   ]
  },
  {
   "cell_type": "markdown",
   "metadata": {
    "colab_type": "text",
    "id": "cNM3_fjr7ue2"
   },
   "source": [
    "But the context distribution of these languages demonstrates even more invariance. And we can use this fact for our for our purposes."
   ]
  },
  {
   "cell_type": "markdown",
   "metadata": {
    "colab_type": "text",
    "id": "YLppwa527ue6"
   },
   "source": [
    "## Data"
   ]
  },
  {
   "cell_type": "code",
   "execution_count": 1,
   "metadata": {},
   "outputs": [],
   "source": [
    "# !pip install watermark\n",
    "# DO NOT uncomment this if you are using any 'conda' distribution\n",
    "# Just run \"conda install watermark -c conda-forge\" in your terminal\n",
    "\n",
    "%load_ext watermark"
   ]
  },
  {
   "cell_type": "code",
   "execution_count": 2,
   "metadata": {},
   "outputs": [
    {
     "name": "stdout",
     "output_type": "stream",
     "text": [
      "CPython 3.7.6\n",
      "IPython 7.12.0\n",
      "\n",
      "numpy 1.18.1\n",
      "gensim 3.8.0\n",
      "sklearn 0.22.1\n",
      "nltk 3.4.5\n",
      "\n",
      "compiler   : GCC 7.3.0\n",
      "system     : Linux\n",
      "release    : 4.15.0-64-generic\n",
      "machine    : x86_64\n",
      "processor  : x86_64\n",
      "CPU cores  : 48\n",
      "interpreter: 64bit\n",
      "Git hash   : 5827d18df161965f5fdf072702f7a474bdf684c3\n"
     ]
    }
   ],
   "source": [
    "%watermark -v -m -p numpy,gensim,sklearn,nltk -g"
   ]
  },
  {
   "cell_type": "code",
   "execution_count": 3,
   "metadata": {
    "colab": {},
    "colab_type": "code",
    "id": "lYBGKAUn7ue_"
   },
   "outputs": [],
   "source": [
    "from os import remove\n",
    "from pickle import dump, load\n",
    "from functools import partial\n",
    "from operator import itemgetter\n",
    "from csv import reader as csv_reader\n",
    "\n",
    "from typing import Sequence, Tuple\n",
    "\n",
    "import gensim\n",
    "import numpy as np\n",
    "\n",
    "from gensim.models import KeyedVectors\n",
    "from sklearn.linear_model import LinearRegression\n",
    "from nltk import word_tokenize\n",
    "\n",
    "\n",
    "tsv_reader = partial(csv_reader, delimiter='\\t')"
   ]
  },
  {
   "cell_type": "markdown",
   "metadata": {
    "colab_type": "text",
    "id": "MwGoVhRA7ufP"
   },
   "source": [
    "In this notebook we're going to use pretrained word vectors - FastText (original paper - https://arxiv.org/abs/1607.04606).\n",
    "\n",
    "You can download them from the official [website](https://fasttext.cc/docs/en/crawl-vectors.html). We're going to need embeddings for Russian and Ukrainian languages. Please use word2vec-compatible format (.text)."
   ]
  },
  {
   "cell_type": "code",
   "execution_count": 4,
   "metadata": {},
   "outputs": [],
   "source": [
    "# !wget https://dl.fbaipublicfiles.com/fasttext/vectors-crawl/cc.ru.300.vec.gz\n",
    "# !wget https://dl.fbaipublicfiles.com/fasttext/vectors-crawl/cc.uk.300.vec.gz\n",
    "# !gzip -d cc.uk.300.vec.gz cc.ru.300.vec.gz"
   ]
  },
  {
   "cell_type": "code",
   "execution_count": 5,
   "metadata": {
    "colab": {},
    "colab_type": "code",
    "id": "u1JjQv_97ufT"
   },
   "outputs": [],
   "source": [
    "# %%time\n",
    "# uk_emb = KeyedVectors.load_word2vec_format('cc.uk.300.vec')\n",
    "# ru_emb = KeyedVectors.load_word2vec_format('cc.ru.300.vec')"
   ]
  },
  {
   "cell_type": "code",
   "execution_count": 6,
   "metadata": {},
   "outputs": [],
   "source": [
    "# %%time\n",
    "# with open('rus_300_emb.pkl', 'wb') as out:\n",
    "#     dump(ru_emb, out)\n",
    "# with open('ukr_300_emb.pkl', 'wb') as out:\n",
    "#     dump(uk_emb, out)\n",
    "# # remove('cc.ru.300.vec')\n",
    "# # remove('cc.uk.300.vec')"
   ]
  },
  {
   "cell_type": "code",
   "execution_count": 7,
   "metadata": {},
   "outputs": [
    {
     "name": "stdout",
     "output_type": "stream",
     "text": [
      "CPU times: user 8.74 s, sys: 7.28 s, total: 16 s\n",
      "Wall time: 15.9 s\n"
     ]
    }
   ],
   "source": [
    "%%time\n",
    "with open('rus_300_emb.pkl', 'rb') as pkl:\n",
    "    ru_emb = load(pkl)\n",
    "with open('ukr_300_emb.pkl', 'rb') as pkl:\n",
    "    uk_emb = load(pkl)"
   ]
  },
  {
   "cell_type": "code",
   "execution_count": 8,
   "metadata": {
    "colab": {},
    "colab_type": "code",
    "id": "nTkXfT0W7ufk"
   },
   "outputs": [
    {
     "data": {
      "text/plain": [
       "[('август', 1.0),\n",
       " ('июль', 0.9383152723312378),\n",
       " ('сентябрь', 0.9240028858184814),\n",
       " ('июнь', 0.9222574830055237),\n",
       " ('октябрь', 0.9095538854598999),\n",
       " ('ноябрь', 0.893003523349762),\n",
       " ('апрель', 0.8729087710380554),\n",
       " ('декабрь', 0.8652557134628296),\n",
       " ('март', 0.8545795679092407),\n",
       " ('февраль', 0.8401416540145874)]"
      ]
     },
     "execution_count": 8,
     "metadata": {},
     "output_type": "execute_result"
    }
   ],
   "source": [
    "ru_emb.most_similar([ru_emb[\"август\"]], topn=10)"
   ]
  },
  {
   "cell_type": "code",
   "execution_count": 9,
   "metadata": {
    "colab": {},
    "colab_type": "code",
    "id": "vdBA8lcg7ufs"
   },
   "outputs": [
    {
     "data": {
      "text/plain": [
       "[('серпень', 1.0),\n",
       " ('липень', 0.9096440076828003),\n",
       " ('вересень', 0.9016969799995422),\n",
       " ('червень', 0.8992520570755005),\n",
       " ('жовтень', 0.8810407519340515),\n",
       " ('листопад', 0.8787633776664734),\n",
       " ('квітень', 0.8592804670333862),\n",
       " ('грудень', 0.8586863279342651),\n",
       " ('травень', 0.8408110737800598),\n",
       " ('лютий', 0.8256431221961975)]"
      ]
     },
     "execution_count": 9,
     "metadata": {},
     "output_type": "execute_result"
    }
   ],
   "source": [
    "uk_emb.most_similar([uk_emb[\"серпень\"]])"
   ]
  },
  {
   "cell_type": "code",
   "execution_count": 10,
   "metadata": {},
   "outputs": [
    {
     "data": {
      "text/plain": [
       "[('Stepashka.com', 0.27579623460769653),\n",
       " ('ЖИЗНИВадим', 0.25203439593315125),\n",
       " ('2Дмитрий', 0.25048112869262695),\n",
       " ('2012Дмитрий', 0.24829229712486267),\n",
       " ('Ведущий-Алексей', 0.24438698589801788),\n",
       " ('Недопустимость', 0.24435283243656158),\n",
       " ('2Михаил', 0.23981399834156036),\n",
       " ('лексей', 0.23740756511688232),\n",
       " ('комплексн', 0.23695148527622223),\n",
       " ('персональ', 0.2368222326040268)]"
      ]
     },
     "execution_count": 10,
     "metadata": {},
     "output_type": "execute_result"
    }
   ],
   "source": [
    "ru_emb.most_similar([uk_emb[\"серпень\"]])"
   ]
  },
  {
   "cell_type": "markdown",
   "metadata": {
    "colab_type": "text",
    "id": "pNdYAR1q7uf6"
   },
   "source": [
    "Load small dictionaries for correspoinding words pairs as trainset and testset."
   ]
  },
  {
   "cell_type": "code",
   "execution_count": 11,
   "metadata": {
    "colab": {},
    "colab_type": "code",
    "id": "35d_DAK67uf8"
   },
   "outputs": [],
   "source": [
    "def load_word_pairs(filename):\n",
    "\n",
    "    with open(filename, 'r') as inpf:\n",
    "        uk_ru_pairs, uk_vectors, ru_vectors = zip(\n",
    "            *(\n",
    "                ((uk, ru), uk_emb[uk], ru_emb[ru])\n",
    "                for (uk, ru) in tsv_reader(inpf)\n",
    "                if uk in uk_emb and ru in ru_emb\n",
    "            )\n",
    "        )\n",
    "    return uk_ru_pairs, np.array(uk_vectors), np.array(ru_vectors)"
   ]
  },
  {
   "cell_type": "code",
   "execution_count": 12,
   "metadata": {
    "colab": {},
    "colab_type": "code",
    "id": "wkNL602WHJyO"
   },
   "outputs": [],
   "source": [
    "# !wget -O ukr_rus_train.tsv http://tiny.cc/jfgecz\n",
    "# !wget -O ukr_rus_test.tsv http://tiny.cc/6zoeez"
   ]
  },
  {
   "cell_type": "code",
   "execution_count": 13,
   "metadata": {},
   "outputs": [
    {
     "name": "stdout",
     "output_type": "stream",
     "text": [
      "або\tлибо\r\n",
      "активний\tактивный\r\n",
      "актор\tактер\r\n",
      "але\tж\r\n",
      "асамблея\tсобрание\r\n",
      "бабуся\tбабушка\r\n",
      "багажник\tствол\r\n",
      "бажати\tжелать\r\n",
      "башта\tбашня\r\n",
      "бізнес\tбизнес\r\n"
     ]
    }
   ],
   "source": [
    "!head ukr_rus_test.tsv"
   ]
  },
  {
   "cell_type": "code",
   "execution_count": 14,
   "metadata": {
    "colab": {},
    "colab_type": "code",
    "id": "05BqsdSK7ugD"
   },
   "outputs": [],
   "source": [
    "uk_ru_train, X_train, Y_train = load_word_pairs('ukr_rus_train.tsv')"
   ]
  },
  {
   "cell_type": "code",
   "execution_count": 15,
   "metadata": {
    "colab": {},
    "colab_type": "code",
    "id": "zQOZw51r7ugL"
   },
   "outputs": [],
   "source": [
    "uk_ru_test, X_test, Y_test = load_word_pairs('ukr_rus_test.tsv')"
   ]
  },
  {
   "cell_type": "markdown",
   "metadata": {
    "colab_type": "text",
    "id": "-ZBBNvpz7ugQ"
   },
   "source": [
    "## Embedding space mapping (0.3 pts)"
   ]
  },
  {
   "cell_type": "markdown",
   "metadata": {
    "colab_type": "text",
    "id": "x_Dhk5gL7ugS"
   },
   "source": [
    "Let $x_i \\in \\mathrm{R}^d$ be the distributed representation of word $i$ in the source language, and $y_i \\in \\mathrm{R}^d$ is the vector representation of its translation. Our purpose is to learn such linear transform $W$ that minimizes euclidian distance between $Wx_i$ and $y_i$ for some subset of word embeddings. Thus we can formulate so-called Procrustes problem:\n",
    "\n",
    "$$W^*= \\arg\\min_W \\sum_{i=1}^n||Wx_i - y_i||_2$$\n",
    "or\n",
    "$$W^*= \\arg\\min_W ||WX - Y||_F$$\n",
    "\n",
    "where $||*||_F$ - Frobenius norm."
   ]
  },
  {
   "cell_type": "markdown",
   "metadata": {
    "colab_type": "text",
    "id": "acOjDdtL7ugY"
   },
   "source": [
    "$W^*= \\arg\\min_W \\sum_{i=1}^n||Wx_i - y_i||_2$ looks like simple multiple linear regression (without intercept fit). So let's code."
   ]
  },
  {
   "cell_type": "code",
   "execution_count": 16,
   "metadata": {
    "colab": {},
    "colab_type": "code",
    "id": "Lb-KN1be7uga"
   },
   "outputs": [
    {
     "data": {
      "text/plain": [
       "LinearRegression(copy_X=True, fit_intercept=False, n_jobs=-1, normalize=False)"
      ]
     },
     "execution_count": 16,
     "metadata": {},
     "output_type": "execute_result"
    }
   ],
   "source": [
    "mapping = LinearRegression(fit_intercept=False, n_jobs=-1)\n",
    "mapping.fit(X_train, Y_train)"
   ]
  },
  {
   "cell_type": "markdown",
   "metadata": {
    "colab_type": "text",
    "id": "X7tqJwoY7ugf"
   },
   "source": [
    "Let's take a look at neigbours of the vector of word _\"серпень\"_ (_\"август\"_ in Russian) after linear transform."
   ]
  },
  {
   "cell_type": "code",
   "execution_count": 17,
   "metadata": {
    "colab": {},
    "colab_type": "code",
    "id": "31SrFSbn7ugi"
   },
   "outputs": [
    {
     "data": {
      "text/plain": [
       "[('апрель', 0.8531432151794434),\n",
       " ('июнь', 0.8402522206306458),\n",
       " ('март', 0.8385882377624512),\n",
       " ('сентябрь', 0.8331484198570251),\n",
       " ('февраль', 0.8311208486557007),\n",
       " ('октябрь', 0.8278017640113831),\n",
       " ('ноябрь', 0.8243728280067444),\n",
       " ('июль', 0.822961688041687),\n",
       " ('август', 0.8112279772758484),\n",
       " ('январь', 0.8022985458374023)]"
      ]
     },
     "execution_count": 17,
     "metadata": {},
     "output_type": "execute_result"
    }
   ],
   "source": [
    "august = mapping.predict(uk_emb['серпень'].reshape(1, -1))\n",
    "ru_emb.most_similar(august)"
   ]
  },
  {
   "cell_type": "markdown",
   "metadata": {
    "colab_type": "text",
    "id": "okSkjk597ugo"
   },
   "source": [
    "We can see that neighbourhood of this embedding cosists of different months, but right variant is on the ninth place."
   ]
  },
  {
   "cell_type": "markdown",
   "metadata": {
    "colab_type": "text",
    "id": "o2uY6Y9B7ugt"
   },
   "source": [
    "As quality measure we will use precision top-1, top-5 and top-10 (for each transformed Ukrainian embedding we count how many right target pairs are found in top N nearest neighbours in Russian embedding space)."
   ]
  },
  {
   "cell_type": "code",
   "execution_count": 18,
   "metadata": {
    "colab": {},
    "colab_type": "code",
    "id": "zptuho8LAfIE"
   },
   "outputs": [],
   "source": [
    "def precision(pairs:          Sequence[Tuple[str, str]],\n",
    "              mapped_vectors: Sequence[Sequence[float]],\n",
    "              topn:           int = 1) -> float:\n",
    "    \"\"\"\n",
    "    :param pairs:           list of right word pairs [(uk_word_0, ru_word_0), ...]\n",
    "    :param mapped_vectors:  list of embeddings after mapping\n",
    "                            from source embedding space to destination embedding space\n",
    "    :param topn:            the number of nearest neighbours in destination embedding space to choose from\n",
    "\n",
    "    :return:                precision_val\n",
    "                            fraction of total number of words for which we can find right translation at top K.\n",
    "    \"\"\"\n",
    "    if len(pairs) != len(mapped_vectors):\n",
    "        raise AssertionError(\"Parameter 'pairs' should have the same length as parameter 'mapped_vectors'\")\n",
    "\n",
    "    num_matches = sum(\n",
    "        true_rus_tran in map(itemgetter(0), ru_emb.most_similar(emb.reshape(1, -1), topn=topn))\n",
    "        for emb, true_rus_tran in zip(mapped_vectors, map(itemgetter(1), pairs))\n",
    "    )\n",
    "    precision_val = num_matches / len(pairs)\n",
    "    return precision_val"
   ]
  },
  {
   "cell_type": "code",
   "execution_count": 19,
   "metadata": {
    "colab": {},
    "colab_type": "code",
    "id": "duhj9hpv7ugy"
   },
   "outputs": [],
   "source": [
    "assert precision([(\"серпень\", \"август\")], august, topn=5) == 0.0\n",
    "assert precision([(\"серпень\", \"август\")], august, topn=9) == 1.0\n",
    "assert precision([(\"серпень\", \"август\")], august, topn=10) == 1.0"
   ]
  },
  {
   "cell_type": "code",
   "execution_count": 20,
   "metadata": {
    "colab": {},
    "colab_type": "code",
    "id": "0-iyd5gP7ug5"
   },
   "outputs": [
    {
     "name": "stdout",
     "output_type": "stream",
     "text": [
      "CPU times: user 11min 3s, sys: 7 s, total: 11min 10s\n",
      "Wall time: 27.9 s\n"
     ]
    }
   ],
   "source": [
    "%%time\n",
    "assert precision(uk_ru_test, X_test) == 0.0\n",
    "assert precision(uk_ru_test, Y_test) == 1.0"
   ]
  },
  {
   "cell_type": "code",
   "execution_count": 21,
   "metadata": {
    "colab": {},
    "colab_type": "code",
    "id": "U-ssEJ3x7uhA"
   },
   "outputs": [
    {
     "name": "stdout",
     "output_type": "stream",
     "text": [
      "CPU times: user 12min 35s, sys: 8.21 s, total: 12min 43s\n",
      "Wall time: 31.8 s\n"
     ]
    }
   ],
   "source": [
    "%%time\n",
    "precision_top1 = precision(uk_ru_test, mapping.predict(X_test), 1)\n",
    "precision_top5 = precision(uk_ru_test, mapping.predict(X_test), 5)"
   ]
  },
  {
   "cell_type": "code",
   "execution_count": 22,
   "metadata": {
    "colab": {},
    "colab_type": "code",
    "id": "7K-hy7a6Ksn2"
   },
   "outputs": [
    {
     "name": "stdout",
     "output_type": "stream",
     "text": [
      "0.628498727735369\n",
      "0.7913486005089059\n"
     ]
    }
   ],
   "source": [
    "print(precision_top1)\n",
    "print(precision_top5)"
   ]
  },
  {
   "cell_type": "markdown",
   "metadata": {
    "colab_type": "text",
    "id": "hf6Ou8bx7uhH"
   },
   "source": [
    "## Making it better (orthogonal Procrustean problem) (0.3 pts)"
   ]
  },
  {
   "cell_type": "markdown",
   "metadata": {
    "colab_type": "text",
    "id": "4oLs-drN7uhK"
   },
   "source": [
    "It can be shown (see original paper) that a self-consistent linear mapping between semantic spaces should be orthogonal. \n",
    "We can restrict transform $W$ to be orthogonal. Then we will solve next problem:\n",
    "\n",
    "$$W^*= \\arg\\min_W ||WX - Y||_F \\text{, where: } W^TW = I$$\n",
    "\n",
    "$$I \\text{- identity matrix}$$\n",
    "\n",
    "Instead of making yet another regression problem we can find optimal orthogonal transformation using singular value decomposition. It turns out that optimal transformation $W^*$ can be expressed via SVD components:\n",
    "$$X^TY=U\\Sigma V^T\\text{, singular value decompostion}$$\n",
    "$$W^*=UV^T$$"
   ]
  },
  {
   "cell_type": "code",
   "execution_count": 23,
   "metadata": {
    "colab": {},
    "colab_type": "code",
    "id": "DdFQ7qti7uhL"
   },
   "outputs": [],
   "source": [
    "def learn_transform(X_train: np.ndarray, Y_train: np.ndarray) -> np.ndarray:\n",
    "    \"\"\" \n",
    "    :returns: W* : float matrix[emb_dim x emb_dim] as defined in formulae above\n",
    "    \"\"\"\n",
    "\n",
    "    u, s, vh = np.linalg.svd(X_train.T @ Y_train)\n",
    "    del s\n",
    "    return u @ vh"
   ]
  },
  {
   "cell_type": "code",
   "execution_count": 24,
   "metadata": {
    "colab": {},
    "colab_type": "code",
    "id": "7X7QfYDd7uhQ"
   },
   "outputs": [],
   "source": [
    "W = learn_transform(X_train, Y_train)"
   ]
  },
  {
   "cell_type": "code",
   "execution_count": 25,
   "metadata": {
    "colab": {},
    "colab_type": "code",
    "id": "OVOFYYa37uhX"
   },
   "outputs": [
    {
     "data": {
      "text/plain": [
       "[('апрель', 0.8245130777359009),\n",
       " ('июнь', 0.8056631088256836),\n",
       " ('сентябрь', 0.8055763244628906),\n",
       " ('март', 0.8032934069633484),\n",
       " ('октябрь', 0.7987103462219238),\n",
       " ('июль', 0.7946797609329224),\n",
       " ('ноябрь', 0.7939637303352356),\n",
       " ('август', 0.7938190698623657),\n",
       " ('февраль', 0.7923860549926758),\n",
       " ('декабрь', 0.771537721157074)]"
      ]
     },
     "execution_count": 25,
     "metadata": {},
     "output_type": "execute_result"
    }
   ],
   "source": [
    "ru_emb.most_similar([uk_emb[\"серпень\"] @ W])"
   ]
  },
  {
   "cell_type": "code",
   "execution_count": 26,
   "metadata": {
    "colab": {},
    "colab_type": "code",
    "id": "r297sYP37uhb"
   },
   "outputs": [
    {
     "name": "stdout",
     "output_type": "stream",
     "text": [
      "0.6437659033078881\n",
      "0.7989821882951654\n",
      "CPU times: user 11min 34s, sys: 7.19 s, total: 11min 41s\n",
      "Wall time: 29.3 s\n"
     ]
    }
   ],
   "source": [
    "%%time\n",
    "print(precision(uk_ru_test, X_test @ W))\n",
    "print(precision(uk_ru_test, X_test @ W, 5))"
   ]
  },
  {
   "cell_type": "markdown",
   "metadata": {
    "colab_type": "text",
    "id": "hvUZ72U5AfJg"
   },
   "source": [
    "## Unsupervised embedding-based MT (0.4 pts)"
   ]
  },
  {
   "cell_type": "markdown",
   "metadata": {
    "colab_type": "text",
    "id": "LLyuVfHBLrJn"
   },
   "source": [
    "Now, let's build our word embeddings-based translator!"
   ]
  },
  {
   "cell_type": "markdown",
   "metadata": {
    "colab_type": "text",
    "id": "tPAURW1CMuP7"
   },
   "source": [
    "Firstly, download OPUS Tatoeba corpus."
   ]
  },
  {
   "cell_type": "code",
   "execution_count": 27,
   "metadata": {
    "colab": {},
    "colab_type": "code",
    "id": "F80kUKzQMsDu"
   },
   "outputs": [],
   "source": [
    "# !wget https://object.pouta.csc.fi/OPUS-Tatoeba/v20190709/mono/uk.txt.gz && gzip -d uk.txt.gz"
   ]
  },
  {
   "cell_type": "code",
   "execution_count": 28,
   "metadata": {
    "colab": {},
    "colab_type": "code",
    "id": "2MV3VvoVUX5U"
   },
   "outputs": [],
   "source": [
    "with open('uk.txt', 'r') as f:\n",
    "    uk_corpus = f.readlines()\n",
    "\n",
    "uk_corpus = uk_corpus[:1000]"
   ]
  },
  {
   "cell_type": "code",
   "execution_count": 29,
   "metadata": {
    "colab": {},
    "colab_type": "code",
    "id": "FGksC7l_NMi9"
   },
   "outputs": [],
   "source": [
    "vocab = uk_emb.vocab\n",
    "unk_embed = np.zeros(300, dtype=np.float32)\n",
    "\n",
    "\n",
    "def translate(sentence: str, conf_thresh: float = 0.4) -> str:\n",
    "    \"\"\"\n",
    "    :param sentence:     sentence in Ukrainian (str)\n",
    "    :param conf_thresh:  confidence level above which\n",
    "                         the program replaces the Ukrainian word with the Russian translation candidate\n",
    "\n",
    "    :return:             translation - sentence in Russian (str)\n",
    "\n",
    "    * finds ukrainian embedding for each word in sentence\n",
    "    * transforms ukrainian embedding vector\n",
    "    * finds nearest russian word and replace\n",
    "    \"\"\"\n",
    "\n",
    "    sentence = word_tokenize(sentence)\n",
    "    sentence_embed = np.array(\n",
    "        tuple(\n",
    "            map(\n",
    "                lambda word: uk_emb[word] if word in vocab else unk_embed,\n",
    "                sentence\n",
    "            )\n",
    "        )\n",
    "    )\n",
    "    sentence_embed = sentence_embed @ W\n",
    "\n",
    "\n",
    "    tran_generator = (\n",
    "        (word_tran if confidence > conf_thresh else original_word)\n",
    "        for ((word_tran, confidence), original_word) in zip(\n",
    "            map(\n",
    "                lambda word_embed: ru_emb.most_similar(word_embed.reshape(1, -1), topn=1)[0],\n",
    "                sentence_embed\n",
    "            ),\n",
    "            sentence\n",
    "        )\n",
    "    )\n",
    "\n",
    "    return ' '.join(tran_generator)"
   ]
  },
  {
   "cell_type": "code",
   "execution_count": 30,
   "metadata": {
    "colab": {},
    "colab_type": "code",
    "id": "4hbbMy-tNxlf"
   },
   "outputs": [],
   "source": [
    "assert translate(\".\") == \".\"\n",
    "assert translate(\"1 , 3\") == \"1 , 3\"\n",
    "assert translate(\"кіт зловив мишу\") == \"кот поймал мышку\""
   ]
  },
  {
   "cell_type": "markdown",
   "metadata": {
    "colab_type": "text",
    "id": "ia6I2ce7O_HI"
   },
   "source": [
    "Now you can play with your model and try to get as accurate translations as possible. **Note**: one big issue is out-of-vocabulary words. Try to think of various ways of handling it (you can start with translating each of them to a special **UNK** token and then move to more sophisticated approaches). Good luck!"
   ]
  },
  {
   "cell_type": "code",
   "execution_count": 31,
   "metadata": {
    "colab": {},
    "colab_type": "code",
    "id": "ap1W7ZCeOAVU"
   },
   "outputs": [
    {
     "name": "stdout",
     "output_type": "stream",
     "text": [
      "Я уже закончу колледж , когда мы прибежишь со Америки .\n",
      "Город бомбили враждебные самолеты .\n",
      "Возможно , мной антисоциальный , конечно это не означает , что мной не общаюсь со людьми .\n",
      "Впрочем утра выпала роса .\n",
      "Беда не приходит одна .\n",
      "Посмотри по тот дым .\n",
      "Я заказал два гамбургера .\n",
      "Я не хотел никого обидеть .\n",
      "Гора покрыта снегом .\n",
      "по фотографии во девушки корона не со золота , а со цветов .\n",
      "Во меня є мечта .\n",
      "Я приехал во Японию со Китая .\n",
      "по север находится Шотландия ; по юге — Англия ; по востоке — Уэльс ; и ещe дальше по востоке — северная Ирландия .\n",
      "Его родная страна — Германия .\n",
      "Берн — столица Швейцарии .\n",
      "Он ждал по него к десятой часа .\n",
      "Ты можешь взять ту книгу даром .\n",
      "Такой роман сочинил известный американский писатель .\n",
      "забронировать , будте ласковые , комнату возле международного аэропорта во Торонто .\n",
      "Он знает , что ты его влюбится ?\n",
      "Я знаю , что ты богатый .\n",
      "Те , кто всё забывают , счастливые .\n",
      "Во этой реке опасно плавать .\n",
      "пришел , увидел , победил .\n",
      "Я хожу к школы пешком .\n",
      "Не моя дело !\n",
      "Не забудь билет .\n",
      "Кто он ?\n",
      "Вы будете чай ли кофе ?\n",
      "Он не пойдет по пикник , как и мной .\n",
      "Когда Вы родились ?\n",
      "Это моя любимая песня .\n",
      "мы почти семь со мной .\n",
      "Какой красивый сегодня месяц !\n",
      "Я против каких-либо войны .\n",
      "поверхность воздушной шары — неевклідовий пространство , потому для неё не выполняются правила симметрической геометрии .\n",
      "Говорят , что американцы считают количество денег , какую зарабатывает женщина , мерилом его умение .\n",
      "Можно мной примірю это платье ?\n",
      "Если будет красивая погода , мы доберёмся туда завтра .\n",
      "Это был злой заяц .\n",
      "Один , два , три , четыре , п'ять , восемь , семь , восемь , дев'ять , десять .\n",
      "Кто во любви не знает , тот горя не знает .\n",
      "Его иметь волнуется за него .\n",
      "Я уважаю тех , кто старается со всех сил .\n",
      "необычайная дружба переросла во глубокое любовь .\n",
      "Рейчел аш со є много молока каждый день .\n",
      "Он вор .\n",
      "Шумового загрязнение можно было бы позбігнути только если бы люди были более чувствительны к окружающей среды .\n",
      "чай со лимоном , будте ласковые .\n",
      "Не путать желание со влюбленностью .\n",
      "Я бы со удовольствием сочинил сотни сложноподчинённые во Tatoeb со и , конечно во меня є дела .\n",
      "Дайте мне чашечку кофе .\n",
      "ведь же ты никогда мне о это не рассказывала !\n",
      "Во тебя будут проблемы , если твои родители узнают .\n",
      "Запах роз наполнил комнату .\n",
      "Как во тебя дела ?\n",
      "Это мои штаны .\n",
      "НЕт , спасибо .\n",
      "Я не понимаю , почему Германия победила по Евровидении .\n",
      "Добрый вечер .\n",
      "Со юбілеєм Алексея Палашка поприветствовал президент Белоруссии Александр Лукашенко .\n",
      "Млечный путь — широкий пояс со далеких звёзд , каждая звезда — солнце , такое как наше .\n",
      "удивительно видеть рок-звёзд со галстук !\n",
      "всё печенье во форме звёзд .\n",
      "ЧТо мне одеть — штаны ли юбку ?\n",
      "Краусс Вітвер — известный московский скульптор .\n",
      "Ой был злой кролик .\n",
      "Можешь взять любой , что тебе к отвратиться .\n",
      "Конечно мной пойду .\n",
      "шелковичные прядут коконы .\n",
      "ЧТо бы ты сделала , если бы во тебя было , замечу , десять тысяч долларов ?\n",
      "Он думает , что он кто-то , а действительно он никто .\n",
      "она очень гордится своею коллекцией марок .\n",
      "Он очень простой ...\n",
      "Какая ты добра !\n",
      "Как мной за тобой соскучился !\n",
      "Это всё , что мной знаю .\n",
      "Ты ведёшь дневник ?\n",
      "Тебе решать .\n",
      "Это почта , а то — банк .\n",
      "Это всё , что мной хочу сделать .\n",
      "Я впервые смотрю такой страшный фильм .\n",
      "Этa песня напоминает мне о дом .\n",
      "Хіросі здесь ?\n",
      "Меня зовут Эдди .\n",
      "Как женщина живет , так она и умрет .\n",
      "Я здесь уже две часа .\n",
      "Мне надо извиниться перед Ен .\n",
      "Сегодня мной видел скворца .\n",
      "« Сколько стоить та носовая косыночка ? » — « Дев'яносто п'ять центов » .\n",
      "солдаты медведи , как правило , очень опасные .\n",
      "Он быстро устает .\n",
      "остальные готовы .\n",
      "Он скучает по своей семь со ї .\n",
      "« Спасибо » , — « по здоровье со мной » .\n",
      "Я ещe не знаю своего адреса , мной определенный момент буду жить во подруги .\n",
      "Амазонка— вторая по длине река во мире после Нила .\n",
      "А если увидишь Тима , передай ему от меня поздравления .\n",
      "закрой за собой дверь .\n",
      "Держи при себе словарь .\n",
      "\n",
      "CPU times: user 8min 33s, sys: 4.33 s, total: 8min 37s\n",
      "Wall time: 21.6 s\n"
     ]
    }
   ],
   "source": [
    "%%time\n",
    "for sent in uk_corpus[::10]:\n",
    "    print(translate(sent))\n",
    "print()"
   ]
  },
  {
   "cell_type": "markdown",
   "metadata": {},
   "source": [
    "Great! \n",
    "See second notebook for the Neural Machine Translation assignment."
   ]
  }
 ],
 "metadata": {
  "anaconda-cloud": {},
  "colab": {
   "collapsed_sections": [],
   "machine_shape": "hm",
   "name": "homework.ipynb",
   "provenance": []
  },
  "kernelspec": {
   "display_name": "Python 3",
   "language": "python",
   "name": "python3"
  },
  "language_info": {
   "codemirror_mode": {
    "name": "ipython",
    "version": 3
   },
   "file_extension": ".py",
   "mimetype": "text/x-python",
   "name": "python",
   "nbconvert_exporter": "python",
   "pygments_lexer": "ipython3",
   "version": "3.7.6"
  }
 },
 "nbformat": 4,
 "nbformat_minor": 1
}
